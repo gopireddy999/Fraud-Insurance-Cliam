{
  "nbformat": 4,
  "nbformat_minor": 0,
  "metadata": {
    "colab": {
      "provenance": []
    },
    "kernelspec": {
      "name": "python3",
      "display_name": "Python 3"
    },
    "language_info": {
      "name": "python"
    }
  },
  "cells": [
    {
      "cell_type": "code",
      "execution_count": null,
      "metadata": {
        "colab": {
          "base_uri": "https://localhost:8080/"
        },
        "id": "n5eKRhOYtpn1",
        "outputId": "f146e636-be94-4e7b-adfe-f42839834a3a"
      },
      "outputs": [
        {
          "output_type": "stream",
          "name": "stdout",
          "text": [
            "Mounted at /content/drive\n"
          ]
        }
      ],
      "source": [
        "from google.colab import drive\n",
        "drive.mount('/content/drive')"
      ]
    },
    {
      "cell_type": "code",
      "source": [
        "import pandas as pd\n",
        "import matplotlib.pyplot as plt\n",
        "import seaborn as seab\n",
        "import warnings as warn\n",
        "warn.filterwarnings(\"ignore\")"
      ],
      "metadata": {
        "id": "IxN-zOdyt1mI"
      },
      "execution_count": null,
      "outputs": []
    },
    {
      "cell_type": "code",
      "source": [
        "fraud_dect_dat = pd.read_csv('Worksheet in Case Study question 2.csv')\n",
        "fraud_dect_dat"
      ],
      "metadata": {
        "colab": {
          "base_uri": "https://localhost:8080/",
          "height": 443
        },
        "id": "KGXiL2QpuZwf",
        "outputId": "bbd6970a-0459-432d-cc4b-bf11fdecbcd5"
      },
      "execution_count": null,
      "outputs": [
        {
          "output_type": "execute_result",
          "data": {
            "text/plain": [
              "     months_as_customer  age  policy_number policy_bind_date policy_state  \\\n",
              "0                   328   48         521585       10/17/2014           OH   \n",
              "1                   228   42         342868        6/27/2006           IN   \n",
              "2                   134   29         687698         9/6/2000           OH   \n",
              "3                   256   41         227811        5/25/1990           IL   \n",
              "4                   228   44         367455         6/6/2014           IL   \n",
              "..                  ...  ...            ...              ...          ...   \n",
              "995                   3   38         941851        7/16/1991           OH   \n",
              "996                 285   41         186934         1/5/2014           IL   \n",
              "997                 130   34         918516        2/17/2003           OH   \n",
              "998                 458   62         533940       11/18/2011           IL   \n",
              "999                 456   60         556080       11/11/1996           OH   \n",
              "\n",
              "    policy_csl  policy_deductable  policy_annual_premium  umbrella_limit  \\\n",
              "0      250/500               1000                1406.91               0   \n",
              "1      250/500               2000                1197.22         5000000   \n",
              "2      100/300               2000                1413.14         5000000   \n",
              "3      250/500               2000                1415.74         6000000   \n",
              "4     500/1000               1000                1583.91         6000000   \n",
              "..         ...                ...                    ...             ...   \n",
              "995   500/1000               1000                1310.80               0   \n",
              "996    100/300               1000                1436.79               0   \n",
              "997    250/500                500                1383.49         3000000   \n",
              "998   500/1000               2000                1356.92         5000000   \n",
              "999    250/500               1000                 766.19               0   \n",
              "\n",
              "     insured_zip  ... witnesses police_report_available total_claim_amount  \\\n",
              "0         466132  ...         2                     YES              71610   \n",
              "1         468176  ...         0                       ?               5070   \n",
              "2         430632  ...         3                      NO              34650   \n",
              "3         608117  ...         2                      NO              63400   \n",
              "4         610706  ...         1                      NO               6500   \n",
              "..           ...  ...       ...                     ...                ...   \n",
              "995       431289  ...         1                       ?              87200   \n",
              "996       608177  ...         3                       ?             108480   \n",
              "997       442797  ...         3                     YES              67500   \n",
              "998       441714  ...         1                     YES              46980   \n",
              "999       612260  ...         3                       ?               5060   \n",
              "\n",
              "    injury_claim property_claim  vehicle_claim   auto_make auto_model  \\\n",
              "0           6510          13020          52080        Saab        92x   \n",
              "1            780            780           3510    Mercedes       E400   \n",
              "2           7700           3850          23100       Dodge        RAM   \n",
              "3           6340           6340          50720   Chevrolet      Tahoe   \n",
              "4           1300            650           4550      Accura        RSX   \n",
              "..           ...            ...            ...         ...        ...   \n",
              "995        17440           8720          61040       Honda     Accord   \n",
              "996        18080          18080          72320  Volkswagen     Passat   \n",
              "997         7500           7500          52500      Suburu    Impreza   \n",
              "998         5220           5220          36540        Audi         A5   \n",
              "999          460            920           3680    Mercedes       E400   \n",
              "\n",
              "    auto_year fraud_reported  \n",
              "0        2004              Y  \n",
              "1        2007              Y  \n",
              "2        2007              N  \n",
              "3        2014              Y  \n",
              "4        2009              N  \n",
              "..        ...            ...  \n",
              "995      2006              N  \n",
              "996      2015              N  \n",
              "997      1996              N  \n",
              "998      1998              N  \n",
              "999      2007              N  \n",
              "\n",
              "[1000 rows x 39 columns]"
            ],
            "text/html": [
              "\n",
              "  <div id=\"df-23b6782c-998f-413d-be81-a7f09d6977a1\" class=\"colab-df-container\">\n",
              "    <div>\n",
              "<style scoped>\n",
              "    .dataframe tbody tr th:only-of-type {\n",
              "        vertical-align: middle;\n",
              "    }\n",
              "\n",
              "    .dataframe tbody tr th {\n",
              "        vertical-align: top;\n",
              "    }\n",
              "\n",
              "    .dataframe thead th {\n",
              "        text-align: right;\n",
              "    }\n",
              "</style>\n",
              "<table border=\"1\" class=\"dataframe\">\n",
              "  <thead>\n",
              "    <tr style=\"text-align: right;\">\n",
              "      <th></th>\n",
              "      <th>months_as_customer</th>\n",
              "      <th>age</th>\n",
              "      <th>policy_number</th>\n",
              "      <th>policy_bind_date</th>\n",
              "      <th>policy_state</th>\n",
              "      <th>policy_csl</th>\n",
              "      <th>policy_deductable</th>\n",
              "      <th>policy_annual_premium</th>\n",
              "      <th>umbrella_limit</th>\n",
              "      <th>insured_zip</th>\n",
              "      <th>...</th>\n",
              "      <th>witnesses</th>\n",
              "      <th>police_report_available</th>\n",
              "      <th>total_claim_amount</th>\n",
              "      <th>injury_claim</th>\n",
              "      <th>property_claim</th>\n",
              "      <th>vehicle_claim</th>\n",
              "      <th>auto_make</th>\n",
              "      <th>auto_model</th>\n",
              "      <th>auto_year</th>\n",
              "      <th>fraud_reported</th>\n",
              "    </tr>\n",
              "  </thead>\n",
              "  <tbody>\n",
              "    <tr>\n",
              "      <th>0</th>\n",
              "      <td>328</td>\n",
              "      <td>48</td>\n",
              "      <td>521585</td>\n",
              "      <td>10/17/2014</td>\n",
              "      <td>OH</td>\n",
              "      <td>250/500</td>\n",
              "      <td>1000</td>\n",
              "      <td>1406.91</td>\n",
              "      <td>0</td>\n",
              "      <td>466132</td>\n",
              "      <td>...</td>\n",
              "      <td>2</td>\n",
              "      <td>YES</td>\n",
              "      <td>71610</td>\n",
              "      <td>6510</td>\n",
              "      <td>13020</td>\n",
              "      <td>52080</td>\n",
              "      <td>Saab</td>\n",
              "      <td>92x</td>\n",
              "      <td>2004</td>\n",
              "      <td>Y</td>\n",
              "    </tr>\n",
              "    <tr>\n",
              "      <th>1</th>\n",
              "      <td>228</td>\n",
              "      <td>42</td>\n",
              "      <td>342868</td>\n",
              "      <td>6/27/2006</td>\n",
              "      <td>IN</td>\n",
              "      <td>250/500</td>\n",
              "      <td>2000</td>\n",
              "      <td>1197.22</td>\n",
              "      <td>5000000</td>\n",
              "      <td>468176</td>\n",
              "      <td>...</td>\n",
              "      <td>0</td>\n",
              "      <td>?</td>\n",
              "      <td>5070</td>\n",
              "      <td>780</td>\n",
              "      <td>780</td>\n",
              "      <td>3510</td>\n",
              "      <td>Mercedes</td>\n",
              "      <td>E400</td>\n",
              "      <td>2007</td>\n",
              "      <td>Y</td>\n",
              "    </tr>\n",
              "    <tr>\n",
              "      <th>2</th>\n",
              "      <td>134</td>\n",
              "      <td>29</td>\n",
              "      <td>687698</td>\n",
              "      <td>9/6/2000</td>\n",
              "      <td>OH</td>\n",
              "      <td>100/300</td>\n",
              "      <td>2000</td>\n",
              "      <td>1413.14</td>\n",
              "      <td>5000000</td>\n",
              "      <td>430632</td>\n",
              "      <td>...</td>\n",
              "      <td>3</td>\n",
              "      <td>NO</td>\n",
              "      <td>34650</td>\n",
              "      <td>7700</td>\n",
              "      <td>3850</td>\n",
              "      <td>23100</td>\n",
              "      <td>Dodge</td>\n",
              "      <td>RAM</td>\n",
              "      <td>2007</td>\n",
              "      <td>N</td>\n",
              "    </tr>\n",
              "    <tr>\n",
              "      <th>3</th>\n",
              "      <td>256</td>\n",
              "      <td>41</td>\n",
              "      <td>227811</td>\n",
              "      <td>5/25/1990</td>\n",
              "      <td>IL</td>\n",
              "      <td>250/500</td>\n",
              "      <td>2000</td>\n",
              "      <td>1415.74</td>\n",
              "      <td>6000000</td>\n",
              "      <td>608117</td>\n",
              "      <td>...</td>\n",
              "      <td>2</td>\n",
              "      <td>NO</td>\n",
              "      <td>63400</td>\n",
              "      <td>6340</td>\n",
              "      <td>6340</td>\n",
              "      <td>50720</td>\n",
              "      <td>Chevrolet</td>\n",
              "      <td>Tahoe</td>\n",
              "      <td>2014</td>\n",
              "      <td>Y</td>\n",
              "    </tr>\n",
              "    <tr>\n",
              "      <th>4</th>\n",
              "      <td>228</td>\n",
              "      <td>44</td>\n",
              "      <td>367455</td>\n",
              "      <td>6/6/2014</td>\n",
              "      <td>IL</td>\n",
              "      <td>500/1000</td>\n",
              "      <td>1000</td>\n",
              "      <td>1583.91</td>\n",
              "      <td>6000000</td>\n",
              "      <td>610706</td>\n",
              "      <td>...</td>\n",
              "      <td>1</td>\n",
              "      <td>NO</td>\n",
              "      <td>6500</td>\n",
              "      <td>1300</td>\n",
              "      <td>650</td>\n",
              "      <td>4550</td>\n",
              "      <td>Accura</td>\n",
              "      <td>RSX</td>\n",
              "      <td>2009</td>\n",
              "      <td>N</td>\n",
              "    </tr>\n",
              "    <tr>\n",
              "      <th>...</th>\n",
              "      <td>...</td>\n",
              "      <td>...</td>\n",
              "      <td>...</td>\n",
              "      <td>...</td>\n",
              "      <td>...</td>\n",
              "      <td>...</td>\n",
              "      <td>...</td>\n",
              "      <td>...</td>\n",
              "      <td>...</td>\n",
              "      <td>...</td>\n",
              "      <td>...</td>\n",
              "      <td>...</td>\n",
              "      <td>...</td>\n",
              "      <td>...</td>\n",
              "      <td>...</td>\n",
              "      <td>...</td>\n",
              "      <td>...</td>\n",
              "      <td>...</td>\n",
              "      <td>...</td>\n",
              "      <td>...</td>\n",
              "      <td>...</td>\n",
              "    </tr>\n",
              "    <tr>\n",
              "      <th>995</th>\n",
              "      <td>3</td>\n",
              "      <td>38</td>\n",
              "      <td>941851</td>\n",
              "      <td>7/16/1991</td>\n",
              "      <td>OH</td>\n",
              "      <td>500/1000</td>\n",
              "      <td>1000</td>\n",
              "      <td>1310.80</td>\n",
              "      <td>0</td>\n",
              "      <td>431289</td>\n",
              "      <td>...</td>\n",
              "      <td>1</td>\n",
              "      <td>?</td>\n",
              "      <td>87200</td>\n",
              "      <td>17440</td>\n",
              "      <td>8720</td>\n",
              "      <td>61040</td>\n",
              "      <td>Honda</td>\n",
              "      <td>Accord</td>\n",
              "      <td>2006</td>\n",
              "      <td>N</td>\n",
              "    </tr>\n",
              "    <tr>\n",
              "      <th>996</th>\n",
              "      <td>285</td>\n",
              "      <td>41</td>\n",
              "      <td>186934</td>\n",
              "      <td>1/5/2014</td>\n",
              "      <td>IL</td>\n",
              "      <td>100/300</td>\n",
              "      <td>1000</td>\n",
              "      <td>1436.79</td>\n",
              "      <td>0</td>\n",
              "      <td>608177</td>\n",
              "      <td>...</td>\n",
              "      <td>3</td>\n",
              "      <td>?</td>\n",
              "      <td>108480</td>\n",
              "      <td>18080</td>\n",
              "      <td>18080</td>\n",
              "      <td>72320</td>\n",
              "      <td>Volkswagen</td>\n",
              "      <td>Passat</td>\n",
              "      <td>2015</td>\n",
              "      <td>N</td>\n",
              "    </tr>\n",
              "    <tr>\n",
              "      <th>997</th>\n",
              "      <td>130</td>\n",
              "      <td>34</td>\n",
              "      <td>918516</td>\n",
              "      <td>2/17/2003</td>\n",
              "      <td>OH</td>\n",
              "      <td>250/500</td>\n",
              "      <td>500</td>\n",
              "      <td>1383.49</td>\n",
              "      <td>3000000</td>\n",
              "      <td>442797</td>\n",
              "      <td>...</td>\n",
              "      <td>3</td>\n",
              "      <td>YES</td>\n",
              "      <td>67500</td>\n",
              "      <td>7500</td>\n",
              "      <td>7500</td>\n",
              "      <td>52500</td>\n",
              "      <td>Suburu</td>\n",
              "      <td>Impreza</td>\n",
              "      <td>1996</td>\n",
              "      <td>N</td>\n",
              "    </tr>\n",
              "    <tr>\n",
              "      <th>998</th>\n",
              "      <td>458</td>\n",
              "      <td>62</td>\n",
              "      <td>533940</td>\n",
              "      <td>11/18/2011</td>\n",
              "      <td>IL</td>\n",
              "      <td>500/1000</td>\n",
              "      <td>2000</td>\n",
              "      <td>1356.92</td>\n",
              "      <td>5000000</td>\n",
              "      <td>441714</td>\n",
              "      <td>...</td>\n",
              "      <td>1</td>\n",
              "      <td>YES</td>\n",
              "      <td>46980</td>\n",
              "      <td>5220</td>\n",
              "      <td>5220</td>\n",
              "      <td>36540</td>\n",
              "      <td>Audi</td>\n",
              "      <td>A5</td>\n",
              "      <td>1998</td>\n",
              "      <td>N</td>\n",
              "    </tr>\n",
              "    <tr>\n",
              "      <th>999</th>\n",
              "      <td>456</td>\n",
              "      <td>60</td>\n",
              "      <td>556080</td>\n",
              "      <td>11/11/1996</td>\n",
              "      <td>OH</td>\n",
              "      <td>250/500</td>\n",
              "      <td>1000</td>\n",
              "      <td>766.19</td>\n",
              "      <td>0</td>\n",
              "      <td>612260</td>\n",
              "      <td>...</td>\n",
              "      <td>3</td>\n",
              "      <td>?</td>\n",
              "      <td>5060</td>\n",
              "      <td>460</td>\n",
              "      <td>920</td>\n",
              "      <td>3680</td>\n",
              "      <td>Mercedes</td>\n",
              "      <td>E400</td>\n",
              "      <td>2007</td>\n",
              "      <td>N</td>\n",
              "    </tr>\n",
              "  </tbody>\n",
              "</table>\n",
              "<p>1000 rows × 39 columns</p>\n",
              "</div>\n",
              "    <div class=\"colab-df-buttons\">\n",
              "\n",
              "  <div class=\"colab-df-container\">\n",
              "    <button class=\"colab-df-convert\" onclick=\"convertToInteractive('df-23b6782c-998f-413d-be81-a7f09d6977a1')\"\n",
              "            title=\"Convert this dataframe to an interactive table.\"\n",
              "            style=\"display:none;\">\n",
              "\n",
              "  <svg xmlns=\"http://www.w3.org/2000/svg\" height=\"24px\" viewBox=\"0 -960 960 960\">\n",
              "    <path d=\"M120-120v-720h720v720H120Zm60-500h600v-160H180v160Zm220 220h160v-160H400v160Zm0 220h160v-160H400v160ZM180-400h160v-160H180v160Zm440 0h160v-160H620v160ZM180-180h160v-160H180v160Zm440 0h160v-160H620v160Z\"/>\n",
              "  </svg>\n",
              "    </button>\n",
              "\n",
              "  <style>\n",
              "    .colab-df-container {\n",
              "      display:flex;\n",
              "      gap: 12px;\n",
              "    }\n",
              "\n",
              "    .colab-df-convert {\n",
              "      background-color: #E8F0FE;\n",
              "      border: none;\n",
              "      border-radius: 50%;\n",
              "      cursor: pointer;\n",
              "      display: none;\n",
              "      fill: #1967D2;\n",
              "      height: 32px;\n",
              "      padding: 0 0 0 0;\n",
              "      width: 32px;\n",
              "    }\n",
              "\n",
              "    .colab-df-convert:hover {\n",
              "      background-color: #E2EBFA;\n",
              "      box-shadow: 0px 1px 2px rgba(60, 64, 67, 0.3), 0px 1px 3px 1px rgba(60, 64, 67, 0.15);\n",
              "      fill: #174EA6;\n",
              "    }\n",
              "\n",
              "    .colab-df-buttons div {\n",
              "      margin-bottom: 4px;\n",
              "    }\n",
              "\n",
              "    [theme=dark] .colab-df-convert {\n",
              "      background-color: #3B4455;\n",
              "      fill: #D2E3FC;\n",
              "    }\n",
              "\n",
              "    [theme=dark] .colab-df-convert:hover {\n",
              "      background-color: #434B5C;\n",
              "      box-shadow: 0px 1px 3px 1px rgba(0, 0, 0, 0.15);\n",
              "      filter: drop-shadow(0px 1px 2px rgba(0, 0, 0, 0.3));\n",
              "      fill: #FFFFFF;\n",
              "    }\n",
              "  </style>\n",
              "\n",
              "    <script>\n",
              "      const buttonEl =\n",
              "        document.querySelector('#df-23b6782c-998f-413d-be81-a7f09d6977a1 button.colab-df-convert');\n",
              "      buttonEl.style.display =\n",
              "        google.colab.kernel.accessAllowed ? 'block' : 'none';\n",
              "\n",
              "      async function convertToInteractive(key) {\n",
              "        const element = document.querySelector('#df-23b6782c-998f-413d-be81-a7f09d6977a1');\n",
              "        const dataTable =\n",
              "          await google.colab.kernel.invokeFunction('convertToInteractive',\n",
              "                                                    [key], {});\n",
              "        if (!dataTable) return;\n",
              "\n",
              "        const docLinkHtml = 'Like what you see? Visit the ' +\n",
              "          '<a target=\"_blank\" href=https://colab.research.google.com/notebooks/data_table.ipynb>data table notebook</a>'\n",
              "          + ' to learn more about interactive tables.';\n",
              "        element.innerHTML = '';\n",
              "        dataTable['output_type'] = 'display_data';\n",
              "        await google.colab.output.renderOutput(dataTable, element);\n",
              "        const docLink = document.createElement('div');\n",
              "        docLink.innerHTML = docLinkHtml;\n",
              "        element.appendChild(docLink);\n",
              "      }\n",
              "    </script>\n",
              "  </div>\n",
              "\n",
              "\n",
              "<div id=\"df-36327b1b-4c9a-446e-be63-f86844176940\">\n",
              "  <button class=\"colab-df-quickchart\" onclick=\"quickchart('df-36327b1b-4c9a-446e-be63-f86844176940')\"\n",
              "            title=\"Suggest charts\"\n",
              "            style=\"display:none;\">\n",
              "\n",
              "<svg xmlns=\"http://www.w3.org/2000/svg\" height=\"24px\"viewBox=\"0 0 24 24\"\n",
              "     width=\"24px\">\n",
              "    <g>\n",
              "        <path d=\"M19 3H5c-1.1 0-2 .9-2 2v14c0 1.1.9 2 2 2h14c1.1 0 2-.9 2-2V5c0-1.1-.9-2-2-2zM9 17H7v-7h2v7zm4 0h-2V7h2v10zm4 0h-2v-4h2v4z\"/>\n",
              "    </g>\n",
              "</svg>\n",
              "  </button>\n",
              "\n",
              "<style>\n",
              "  .colab-df-quickchart {\n",
              "      --bg-color: #E8F0FE;\n",
              "      --fill-color: #1967D2;\n",
              "      --hover-bg-color: #E2EBFA;\n",
              "      --hover-fill-color: #174EA6;\n",
              "      --disabled-fill-color: #AAA;\n",
              "      --disabled-bg-color: #DDD;\n",
              "  }\n",
              "\n",
              "  [theme=dark] .colab-df-quickchart {\n",
              "      --bg-color: #3B4455;\n",
              "      --fill-color: #D2E3FC;\n",
              "      --hover-bg-color: #434B5C;\n",
              "      --hover-fill-color: #FFFFFF;\n",
              "      --disabled-bg-color: #3B4455;\n",
              "      --disabled-fill-color: #666;\n",
              "  }\n",
              "\n",
              "  .colab-df-quickchart {\n",
              "    background-color: var(--bg-color);\n",
              "    border: none;\n",
              "    border-radius: 50%;\n",
              "    cursor: pointer;\n",
              "    display: none;\n",
              "    fill: var(--fill-color);\n",
              "    height: 32px;\n",
              "    padding: 0;\n",
              "    width: 32px;\n",
              "  }\n",
              "\n",
              "  .colab-df-quickchart:hover {\n",
              "    background-color: var(--hover-bg-color);\n",
              "    box-shadow: 0 1px 2px rgba(60, 64, 67, 0.3), 0 1px 3px 1px rgba(60, 64, 67, 0.15);\n",
              "    fill: var(--button-hover-fill-color);\n",
              "  }\n",
              "\n",
              "  .colab-df-quickchart-complete:disabled,\n",
              "  .colab-df-quickchart-complete:disabled:hover {\n",
              "    background-color: var(--disabled-bg-color);\n",
              "    fill: var(--disabled-fill-color);\n",
              "    box-shadow: none;\n",
              "  }\n",
              "\n",
              "  .colab-df-spinner {\n",
              "    border: 2px solid var(--fill-color);\n",
              "    border-color: transparent;\n",
              "    border-bottom-color: var(--fill-color);\n",
              "    animation:\n",
              "      spin 1s steps(1) infinite;\n",
              "  }\n",
              "\n",
              "  @keyframes spin {\n",
              "    0% {\n",
              "      border-color: transparent;\n",
              "      border-bottom-color: var(--fill-color);\n",
              "      border-left-color: var(--fill-color);\n",
              "    }\n",
              "    20% {\n",
              "      border-color: transparent;\n",
              "      border-left-color: var(--fill-color);\n",
              "      border-top-color: var(--fill-color);\n",
              "    }\n",
              "    30% {\n",
              "      border-color: transparent;\n",
              "      border-left-color: var(--fill-color);\n",
              "      border-top-color: var(--fill-color);\n",
              "      border-right-color: var(--fill-color);\n",
              "    }\n",
              "    40% {\n",
              "      border-color: transparent;\n",
              "      border-right-color: var(--fill-color);\n",
              "      border-top-color: var(--fill-color);\n",
              "    }\n",
              "    60% {\n",
              "      border-color: transparent;\n",
              "      border-right-color: var(--fill-color);\n",
              "    }\n",
              "    80% {\n",
              "      border-color: transparent;\n",
              "      border-right-color: var(--fill-color);\n",
              "      border-bottom-color: var(--fill-color);\n",
              "    }\n",
              "    90% {\n",
              "      border-color: transparent;\n",
              "      border-bottom-color: var(--fill-color);\n",
              "    }\n",
              "  }\n",
              "</style>\n",
              "\n",
              "  <script>\n",
              "    async function quickchart(key) {\n",
              "      const quickchartButtonEl =\n",
              "        document.querySelector('#' + key + ' button');\n",
              "      quickchartButtonEl.disabled = true;  // To prevent multiple clicks.\n",
              "      quickchartButtonEl.classList.add('colab-df-spinner');\n",
              "      try {\n",
              "        const charts = await google.colab.kernel.invokeFunction(\n",
              "            'suggestCharts', [key], {});\n",
              "      } catch (error) {\n",
              "        console.error('Error during call to suggestCharts:', error);\n",
              "      }\n",
              "      quickchartButtonEl.classList.remove('colab-df-spinner');\n",
              "      quickchartButtonEl.classList.add('colab-df-quickchart-complete');\n",
              "    }\n",
              "    (() => {\n",
              "      let quickchartButtonEl =\n",
              "        document.querySelector('#df-36327b1b-4c9a-446e-be63-f86844176940 button');\n",
              "      quickchartButtonEl.style.display =\n",
              "        google.colab.kernel.accessAllowed ? 'block' : 'none';\n",
              "    })();\n",
              "  </script>\n",
              "</div>\n",
              "\n",
              "  <div id=\"id_16fb7d0e-8d50-434b-bcd5-999cef32171d\">\n",
              "    <style>\n",
              "      .colab-df-generate {\n",
              "        background-color: #E8F0FE;\n",
              "        border: none;\n",
              "        border-radius: 50%;\n",
              "        cursor: pointer;\n",
              "        display: none;\n",
              "        fill: #1967D2;\n",
              "        height: 32px;\n",
              "        padding: 0 0 0 0;\n",
              "        width: 32px;\n",
              "      }\n",
              "\n",
              "      .colab-df-generate:hover {\n",
              "        background-color: #E2EBFA;\n",
              "        box-shadow: 0px 1px 2px rgba(60, 64, 67, 0.3), 0px 1px 3px 1px rgba(60, 64, 67, 0.15);\n",
              "        fill: #174EA6;\n",
              "      }\n",
              "\n",
              "      [theme=dark] .colab-df-generate {\n",
              "        background-color: #3B4455;\n",
              "        fill: #D2E3FC;\n",
              "      }\n",
              "\n",
              "      [theme=dark] .colab-df-generate:hover {\n",
              "        background-color: #434B5C;\n",
              "        box-shadow: 0px 1px 3px 1px rgba(0, 0, 0, 0.15);\n",
              "        filter: drop-shadow(0px 1px 2px rgba(0, 0, 0, 0.3));\n",
              "        fill: #FFFFFF;\n",
              "      }\n",
              "    </style>\n",
              "    <button class=\"colab-df-generate\" onclick=\"generateWithVariable('fraud_dect_dat')\"\n",
              "            title=\"Generate code using this dataframe.\"\n",
              "            style=\"display:none;\">\n",
              "\n",
              "  <svg xmlns=\"http://www.w3.org/2000/svg\" height=\"24px\"viewBox=\"0 0 24 24\"\n",
              "       width=\"24px\">\n",
              "    <path d=\"M7,19H8.4L18.45,9,17,7.55,7,17.6ZM5,21V16.75L18.45,3.32a2,2,0,0,1,2.83,0l1.4,1.43a1.91,1.91,0,0,1,.58,1.4,1.91,1.91,0,0,1-.58,1.4L9.25,21ZM18.45,9,17,7.55Zm-12,3A5.31,5.31,0,0,0,4.9,8.1,5.31,5.31,0,0,0,1,6.5,5.31,5.31,0,0,0,4.9,4.9,5.31,5.31,0,0,0,6.5,1,5.31,5.31,0,0,0,8.1,4.9,5.31,5.31,0,0,0,12,6.5,5.46,5.46,0,0,0,6.5,12Z\"/>\n",
              "  </svg>\n",
              "    </button>\n",
              "    <script>\n",
              "      (() => {\n",
              "      const buttonEl =\n",
              "        document.querySelector('#id_16fb7d0e-8d50-434b-bcd5-999cef32171d button.colab-df-generate');\n",
              "      buttonEl.style.display =\n",
              "        google.colab.kernel.accessAllowed ? 'block' : 'none';\n",
              "\n",
              "      buttonEl.onclick = () => {\n",
              "        google.colab.notebook.generateWithVariable('fraud_dect_dat');\n",
              "      }\n",
              "      })();\n",
              "    </script>\n",
              "  </div>\n",
              "\n",
              "    </div>\n",
              "  </div>\n"
            ],
            "application/vnd.google.colaboratory.intrinsic+json": {
              "type": "dataframe",
              "variable_name": "fraud_dect_dat"
            }
          },
          "metadata": {},
          "execution_count": 5
        }
      ]
    },
    {
      "cell_type": "code",
      "source": [
        "fraud_dect_dat['age'].values"
      ],
      "metadata": {
        "colab": {
          "base_uri": "https://localhost:8080/"
        },
        "id": "iLSUBwP_NhEs",
        "outputId": "563dd919-daa3-4c1d-8b3c-565ccc0bc73e"
      },
      "execution_count": null,
      "outputs": [
        {
          "output_type": "execute_result",
          "data": {
            "text/plain": [
              "array([48, 42, 29, 41, 44, 39, 34, 37, 33, 42, 42, 61, 23, 34, 38, 58, 26,\n",
              "       31, 37, 39, 62, 41, 55, 55, 40, 35, 43, 34, 40, 45, 25, 37, 35, 30,\n",
              "       37, 33, 28, 49, 54, 37, 26, 34, 23, 30, 44, 40, 33, 47, 34, 35, 59,\n",
              "       27, 39, 40, 39, 26, 56, 32, 39, 36, 34, 44, 32, 42, 42, 39, 31, 64,\n",
              "       30, 49, 42, 41, 41, 37, 40, 35, 45, 47, 39, 38, 31, 40, 29, 35, 48,\n",
              "       41, 34, 32, 36, 25, 29, 23, 42, 43, 42, 25, 47, 25, 48, 42, 41, 27,\n",
              "       41, 33, 54, 49, 61, 28, 47, 31, 42, 60, 41, 32, 51, 46, 31, 41, 38,\n",
              "       39, 41, 36, 38, 25, 35, 39, 38, 32, 43, 28, 45, 39, 27, 33, 32, 34,\n",
              "       40, 28, 46, 32, 35, 41, 34, 29, 31, 58, 41, 38, 27, 41, 32, 45, 32,\n",
              "       54, 33, 50, 61, 59, 38, 29, 36, 48, 48, 30, 34, 29, 28, 45, 46, 37,\n",
              "       42, 28, 29, 31, 44, 46, 34, 45, 40, 39, 36, 54, 27, 26, 46, 35, 34,\n",
              "       39, 25, 28, 57, 39, 47, 32, 26, 44, 36, 43, 48, 43, 31, 49, 39, 62,\n",
              "       39, 43, 32, 29, 48, 53, 24, 37, 50, 40, 33, 43, 26, 28, 46, 43, 44,\n",
              "       49, 50, 50, 38, 41, 52, 52, 53, 37, 34, 46, 42, 35, 28, 54, 32, 26,\n",
              "       41, 37, 43, 38, 40, 36, 28, 51, 28, 44, 27, 30, 28, 27, 40, 61, 23,\n",
              "       57, 36, 43, 40, 30, 29, 31, 43, 40, 30, 57, 45, 29, 37, 36, 55, 40,\n",
              "       47, 26, 39, 43, 42, 41, 33, 38, 39, 33, 40, 58, 36, 33, 31, 40, 25,\n",
              "       39, 42, 40, 31, 34, 37, 31, 43, 39, 35, 27, 43, 31, 44, 40, 47, 34,\n",
              "       29, 37, 37, 36, 41, 26, 33, 59, 30, 42, 46, 45, 33, 30, 37, 30, 44,\n",
              "       50, 26, 55, 49, 47, 40, 31, 28, 46, 25, 26, 30, 31, 39, 37, 30, 35,\n",
              "       45, 42, 26, 47, 38, 28, 56, 43, 34, 39, 43, 44, 26, 57, 27, 43, 37,\n",
              "       28, 33, 44, 61, 24, 30, 41, 46, 31, 36, 47, 19, 47, 57, 41, 30, 31,\n",
              "       53, 44, 29, 26, 41, 32, 41, 34, 29, 46, 41, 30, 38, 21, 36, 33, 35,\n",
              "       48, 36, 58, 31, 31, 57, 46, 27, 33, 53, 46, 33, 51, 60, 30, 41, 45,\n",
              "       40, 45, 43, 29, 44, 29, 39, 32, 49, 37, 44, 33, 41, 37, 21, 48, 31,\n",
              "       34, 35, 31, 36, 58, 47, 45, 48, 34, 32, 28, 23, 44, 40, 29, 31, 50,\n",
              "       33, 34, 36, 52, 37, 53, 32, 39, 32, 30, 33, 37, 30, 43, 24, 28, 51,\n",
              "       38, 44, 54, 57, 41, 38, 33, 34, 56, 37, 35, 57, 38, 51, 49, 42, 36,\n",
              "       29, 56, 53, 46, 44, 21, 30, 40, 56, 28, 29, 24, 46, 29, 33, 39, 49,\n",
              "       43, 47, 46, 44, 32, 58, 49, 29, 39, 38, 48, 26, 46, 24, 29, 24, 30,\n",
              "       38, 48, 34, 38, 60, 48, 27, 39, 41, 43, 43, 26, 42, 30, 46, 26, 45,\n",
              "       47, 54, 34, 48, 53, 38, 49, 42, 23, 46, 55, 63, 44, 30, 41, 31, 25,\n",
              "       40, 29, 43, 50, 38, 29, 37, 53, 51, 53, 40, 51, 35, 26, 35, 38, 49,\n",
              "       41, 27, 39, 33, 50, 30, 54, 42, 35, 33, 39, 33, 54, 32, 40, 46, 39,\n",
              "       52, 34, 45, 31, 28, 41, 27, 35, 30, 59, 64, 25, 40, 43, 41, 30, 38,\n",
              "       36, 41, 29, 41, 38, 29, 31, 35, 27, 27, 44, 27, 39, 46, 57, 46, 30,\n",
              "       42, 27, 33, 34, 43, 26, 28, 36, 57, 27, 28, 42, 31, 60, 50, 40, 39,\n",
              "       47, 35, 37, 45, 29, 35, 35, 28, 45, 34, 48, 38, 55, 32, 38, 40, 43,\n",
              "       36, 40, 32, 32, 31, 27, 54, 29, 20, 34, 32, 39, 43, 32, 57, 48, 37,\n",
              "       33, 46, 60, 51, 40, 47, 57, 36, 43, 25, 28, 38, 29, 29, 31, 45, 30,\n",
              "       38, 38, 27, 43, 47, 50, 35, 41, 47, 42, 41, 38, 35, 36, 30, 45, 36,\n",
              "       37, 31, 38, 31, 33, 57, 41, 39, 45, 43, 33, 41, 46, 44, 30, 62, 23,\n",
              "       61, 29, 28, 28, 44, 43, 58, 34, 41, 29, 43, 39, 43, 22, 32, 41, 31,\n",
              "       43, 26, 34, 43, 45, 48, 33, 42, 34, 51, 33, 50, 39, 55, 41, 39, 31,\n",
              "       44, 38, 31, 40, 55, 58, 35, 35, 32, 36, 60, 35, 31, 57, 43, 30, 50,\n",
              "       37, 39, 46, 61, 37, 46, 39, 37, 33, 28, 32, 61, 40, 38, 61, 61, 29,\n",
              "       41, 33, 48, 40, 27, 30, 34, 34, 39, 32, 39, 32, 48, 47, 56, 33, 24,\n",
              "       24, 30, 36, 34, 29, 46, 42, 37, 38, 34, 33, 43, 30, 56, 48, 25, 38,\n",
              "       30, 42, 41, 47, 29, 34, 53, 41, 37, 49, 32, 24, 28, 26, 36, 26, 46,\n",
              "       28, 32, 55, 43, 24, 34, 43, 44, 39, 44, 48, 47, 37, 42, 43, 60, 53,\n",
              "       21, 43, 47, 46, 36, 36, 45, 46, 43, 30, 42, 40, 44, 26, 53, 43, 33,\n",
              "       39, 44, 27, 43, 34, 45, 49, 39, 37, 39, 57, 37, 47, 34, 55, 30, 31,\n",
              "       48, 45, 30, 55, 55, 38, 34, 60, 35, 33, 31, 38, 45, 39, 43, 34, 33,\n",
              "       21, 28, 30, 27, 31, 43, 53, 44, 38, 48, 26, 36, 45, 36, 37, 38, 41,\n",
              "       36, 33, 40, 38, 35, 31, 30, 46, 38, 32, 30, 32, 48, 34, 44, 37, 31,\n",
              "       34, 40, 59, 31, 45, 47, 48, 31, 57, 42, 56, 32, 63, 31, 55, 27, 37,\n",
              "       46, 43, 39, 38, 32, 42, 25, 35, 34, 35, 37, 30, 37, 26, 29, 32, 50,\n",
              "       55, 35, 25, 44, 37, 41, 40, 33, 42, 32, 37, 40, 44, 43, 39, 36, 32,\n",
              "       42, 39, 46, 21, 43, 44, 26, 28, 30, 38, 41, 34, 62, 60])"
            ]
          },
          "metadata": {},
          "execution_count": 6
        }
      ]
    },
    {
      "cell_type": "code",
      "source": [
        "plt.hist(fraud_dect_dat['auto_year'].values)"
      ],
      "metadata": {
        "colab": {
          "base_uri": "https://localhost:8080/",
          "height": 499
        },
        "id": "-kkPSs882TCc",
        "outputId": "e2713d00-3394-4650-c9fd-f0f41be44c6b"
      },
      "execution_count": null,
      "outputs": [
        {
          "output_type": "execute_result",
          "data": {
            "text/plain": [
              "(array([ 93.,  86.,  97.,  91.,  90., 107.,  97., 100.,  99., 140.]),\n",
              " array([1995., 1997., 1999., 2001., 2003., 2005., 2007., 2009., 2011.,\n",
              "        2013., 2015.]),\n",
              " <BarContainer object of 10 artists>)"
            ]
          },
          "metadata": {},
          "execution_count": 7
        },
        {
          "output_type": "display_data",
          "data": {
            "text/plain": [
              "<Figure size 640x480 with 1 Axes>"
            ],
            "image/png": "[encoded data removed]"
          },
          "metadata": {}
        }
      ]
    },
    {
      "cell_type": "code",
      "source": [
        "plt.hist(fraud_dect_dat['vehicle_claim'].values)"
      ],
      "metadata": {
        "colab": {
          "base_uri": "https://localhost:8080/",
          "height": 517
        },
        "id": "hsh_kJTc2GZ7",
        "outputId": "f5861357-c796-4a43-9e07-98e82b6d8b0c"
      },
      "execution_count": null,
      "outputs": [
        {
          "output_type": "execute_result",
          "data": {
            "text/plain": [
              "(array([177.,   3.,  17.,  70., 170., 233., 188.,  99.,  28.,  15.]),\n",
              " array([7.0000e+01, 8.0190e+03, 1.5968e+04, 2.3917e+04, 3.1866e+04,\n",
              "        3.9815e+04, 4.7764e+04, 5.5713e+04, 6.3662e+04, 7.1611e+04,\n",
              "        7.9560e+04]),\n",
              " <BarContainer object of 10 artists>)"
            ]
          },
          "metadata": {},
          "execution_count": 8
        },
        {
          "output_type": "display_data",
          "data": {
            "text/plain": [
              "<Figure size 640x480 with 1 Axes>"
            ],
            "image/png": "[encoded data removed]"
          },
          "metadata": {}
        }
      ]
    },
    {
      "cell_type": "code",
      "source": [
        "plt.hist(fraud_dect_dat['property_claim'].values)"
      ],
      "metadata": {
        "colab": {
          "base_uri": "https://localhost:8080/",
          "height": 499
        },
        "id": "H3Ae5nbd1la0",
        "outputId": "359847c8-90cf-4549-8ef6-521014aa2d31"
      },
      "execution_count": null,
      "outputs": [
        {
          "output_type": "execute_result",
          "data": {
            "text/plain": [
              "(array([196.,  72., 276., 135., 126.,  98.,  67.,  16.,  10.,   4.]),\n",
              " array([    0.,  2367.,  4734.,  7101.,  9468., 11835., 14202., 16569.,\n",
              "        18936., 21303., 23670.]),\n",
              " <BarContainer object of 10 artists>)"
            ]
          },
          "metadata": {},
          "execution_count": 9
        },
        {
          "output_type": "display_data",
          "data": {
            "text/plain": [
              "<Figure size 640x480 with 1 Axes>"
            ],
            "image/png": "[encoded data removed]"
          },
          "metadata": {}
        }
      ]
    },
    {
      "cell_type": "code",
      "source": [
        "plt.hist(fraud_dect_dat['injury_claim'].values)"
      ],
      "metadata": {
        "colab": {
          "base_uri": "https://localhost:8080/",
          "height": 499
        },
        "id": "73j880ro1Ruf",
        "outputId": "ab4268ae-3800-47ad-ada9-f46d6dcaa252"
      },
      "execution_count": null,
      "outputs": [
        {
          "output_type": "execute_result",
          "data": {
            "text/plain": [
              "(array([200.,  50., 210., 170.,  94., 107.,  93.,  55.,  18.,   3.]),\n",
              " array([    0.,  2145.,  4290.,  6435.,  8580., 10725., 12870., 15015.,\n",
              "        17160., 19305., 21450.]),\n",
              " <BarContainer object of 10 artists>)"
            ]
          },
          "metadata": {},
          "execution_count": 10
        },
        {
          "output_type": "display_data",
          "data": {
            "text/plain": [
              "<Figure size 640x480 with 1 Axes>"
            ],
            "image/png": "[encoded data removed]"
          },
          "metadata": {}
        }
      ]
    },
    {
      "cell_type": "code",
      "source": [
        "plt.hist(fraud_dect_dat['total_claim_amount'].values)"
      ],
      "metadata": {
        "colab": {
          "base_uri": "https://localhost:8080/",
          "height": 517
        },
        "id": "jKL2FVcx0L3r",
        "outputId": "5b754bfa-7f2d-4225-baba-2b9c1b7a09c3"
      },
      "execution_count": null,
      "outputs": [
        {
          "output_type": "execute_result",
          "data": {
            "text/plain": [
              "(array([178.,   2.,  27.,  87., 194., 229., 173.,  78.,  23.,   9.]),\n",
              " array([1.00000e+02, 1.15820e+04, 2.30640e+04, 3.45460e+04, 4.60280e+04,\n",
              "        5.75100e+04, 6.89920e+04, 8.04740e+04, 9.19560e+04, 1.03438e+05,\n",
              "        1.14920e+05]),\n",
              " <BarContainer object of 10 artists>)"
            ]
          },
          "metadata": {},
          "execution_count": 11
        },
        {
          "output_type": "display_data",
          "data": {
            "text/plain": [
              "<Figure size 640x480 with 1 Axes>"
            ],
            "image/png": "[encoded data removed]"
          },
          "metadata": {}
        }
      ]
    },
    {
      "cell_type": "code",
      "source": [
        "plt.hist(fraud_dect_dat['umbrella_limit'].values)"
      ],
      "metadata": {
        "colab": {
          "base_uri": "https://localhost:8080/",
          "height": 517
        },
        "id": "IWr8G4tcz8Ir",
        "outputId": "03451dc8-e4bf-46df-a554-3a3316590361"
      },
      "execution_count": null,
      "outputs": [
        {
          "output_type": "execute_result",
          "data": {
            "text/plain": [
              "(array([799.,   0.,   3.,  12.,  39.,  46.,  57.,  29.,   8.,   7.]),\n",
              " array([-1000000.,   100000.,  1200000.,  2300000.,  3400000.,  4500000.,\n",
              "         5600000.,  6700000.,  7800000.,  8900000., 10000000.]),\n",
              " <BarContainer object of 10 artists>)"
            ]
          },
          "metadata": {},
          "execution_count": 12
        },
        {
          "output_type": "display_data",
          "data": {
            "text/plain": [
              "<Figure size 640x480 with 1 Axes>"
            ],
            "image/png": "[encoded data removed]"
          },
          "metadata": {}
        }
      ]
    },
    {
      "cell_type": "code",
      "source": [
        "plt.hist(fraud_dect_dat['policy_annual_premium'].values)"
      ],
      "metadata": {
        "colab": {
          "base_uri": "https://localhost:8080/",
          "height": 499
        },
        "id": "A31td3hRzlFi",
        "outputId": "80341eb0-1e07-458f-bdb1-51ab3ba5ef14"
      },
      "execution_count": null,
      "outputs": [
        {
          "output_type": "execute_result",
          "data": {
            "text/plain": [
              "(array([  4.,  13.,  62., 156., 236., 262., 166.,  72.,  23.,   6.]),\n",
              " array([ 433.33 ,  594.756,  756.182,  917.608, 1079.034, 1240.46 ,\n",
              "        1401.886, 1563.312, 1724.738, 1886.164, 2047.59 ]),\n",
              " <BarContainer object of 10 artists>)"
            ]
          },
          "metadata": {},
          "execution_count": 13
        },
        {
          "output_type": "display_data",
          "data": {
            "text/plain": [
              "<Figure size 640x480 with 1 Axes>"
            ],
            "image/png": "[encoded data removed]"
          },
          "metadata": {}
        }
      ]
    },
    {
      "cell_type": "code",
      "source": [
        "plt.hist(fraud_dect_dat['policy_deductable'].values)"
      ],
      "metadata": {
        "id": "TwqhO9idQtAz",
        "colab": {
          "base_uri": "https://localhost:8080/",
          "height": 499
        },
        "outputId": "559bb7d1-35a0-44d2-8787-ae2811efd999"
      },
      "execution_count": null,
      "outputs": [
        {
          "output_type": "execute_result",
          "data": {
            "text/plain": [
              "(array([342.,   0.,   0., 351.,   0.,   0.,   0.,   0.,   0., 307.]),\n",
              " array([ 500.,  650.,  800.,  950., 1100., 1250., 1400., 1550., 1700.,\n",
              "        1850., 2000.]),\n",
              " <BarContainer object of 10 artists>)"
            ]
          },
          "metadata": {},
          "execution_count": 14
        },
        {
          "output_type": "display_data",
          "data": {
            "text/plain": [
              "<Figure size 640x480 with 1 Axes>"
            ],
            "image/png": "[encoded data removed]"
          },
          "metadata": {}
        }
      ]
    },
    {
      "cell_type": "code",
      "source": [
        "plt.hist(fraud_dect_dat['age'].values, range=[20,60])"
      ],
      "metadata": {
        "colab": {
          "base_uri": "https://localhost:8080/",
          "height": 482
        },
        "id": "WPxgcuouNyLk",
        "outputId": "136d581e-f2f4-4eee-830e-5710696bd85b"
      },
      "execution_count": null,
      "outputs": [
        {
          "output_type": "execute_result",
          "data": {
            "text/plain": [
              "(array([ 15.,  74., 149., 153., 163., 164., 115.,  61.,  41.,  46.]),\n",
              " array([20., 24., 28., 32., 36., 40., 44., 48., 52., 56., 60.]),\n",
              " <BarContainer object of 10 artists>)"
            ]
          },
          "metadata": {},
          "execution_count": 15
        },
        {
          "output_type": "display_data",
          "data": {
            "text/plain": [
              "<Figure size 640x480 with 1 Axes>"
            ],
            "image/png": "[encoded data removed]"
          },
          "metadata": {}
        }
      ]
    },
    {
      "cell_type": "code",
      "source": [
        "print(f\"Shape of the dataset: {fraud_dect_dat.shape}\")"
      ],
      "metadata": {
        "id": "EVE3S-06uZzQ",
        "colab": {
          "base_uri": "https://localhost:8080/"
        },
        "outputId": "6b8c1228-6c3f-4ff7-e387-b0842b2565e7"
      },
      "execution_count": null,
      "outputs": [
        {
          "output_type": "stream",
          "name": "stdout",
          "text": [
            "Shape of the dataset: (1000, 39)\n"
          ]
        }
      ]
    },
    {
      "cell_type": "code",
      "source": [
        "print(\"Top 10 Rows displayed:\")\n",
        "print(fraud_dect_dat.head(10))"
      ],
      "metadata": {
        "id": "msEzv8Y4uZ2I",
        "colab": {
          "base_uri": "https://localhost:8080/"
        },
        "outputId": "873c583a-52a7-4afd-b92a-05486fa75c4a"
      },
      "execution_count": null,
      "outputs": [
        {
          "output_type": "stream",
          "name": "stdout",
          "text": [
            "Top 10 Rows displayed:\n",
            "   months_as_customer  age  policy_number policy_bind_date policy_state  \\\n",
            "0                 328   48         521585       10/17/2014           OH   \n",
            "1                 228   42         342868        6/27/2006           IN   \n",
            "2                 134   29         687698         9/6/2000           OH   \n",
            "3                 256   41         227811        5/25/1990           IL   \n",
            "4                 228   44         367455         6/6/2014           IL   \n",
            "5                 256   39         104594       10/12/2006           OH   \n",
            "6                 137   34         413978         6/4/2000           IN   \n",
            "7                 165   37         429027         2/3/1990           IL   \n",
            "8                  27   33         485665         2/5/1997           IL   \n",
            "9                 212   42         636550        7/25/2011           IL   \n",
            "\n",
            "  policy_csl  policy_deductable  policy_annual_premium  umbrella_limit  \\\n",
            "0    250/500               1000                1406.91               0   \n",
            "1    250/500               2000                1197.22         5000000   \n",
            "2    100/300               2000                1413.14         5000000   \n",
            "3    250/500               2000                1415.74         6000000   \n",
            "4   500/1000               1000                1583.91         6000000   \n",
            "5    250/500               1000                1351.10               0   \n",
            "6    250/500               1000                1333.35               0   \n",
            "7    100/300               1000                1137.03               0   \n",
            "8    100/300                500                1442.99               0   \n",
            "9    100/300                500                1315.68               0   \n",
            "\n",
            "   insured_zip  ... witnesses police_report_available total_claim_amount  \\\n",
            "0       466132  ...         2                     YES              71610   \n",
            "1       468176  ...         0                       ?               5070   \n",
            "2       430632  ...         3                      NO              34650   \n",
            "3       608117  ...         2                      NO              63400   \n",
            "4       610706  ...         1                      NO               6500   \n",
            "5       478456  ...         2                      NO              64100   \n",
            "6       441716  ...         0                       ?              78650   \n",
            "7       603195  ...         2                     YES              51590   \n",
            "8       601734  ...         1                     YES              27700   \n",
            "9       600983  ...         1                       ?              42300   \n",
            "\n",
            "  injury_claim property_claim  vehicle_claim  auto_make  auto_model auto_year  \\\n",
            "0         6510          13020          52080       Saab         92x      2004   \n",
            "1          780            780           3510   Mercedes        E400      2007   \n",
            "2         7700           3850          23100      Dodge         RAM      2007   \n",
            "3         6340           6340          50720  Chevrolet       Tahoe      2014   \n",
            "4         1300            650           4550     Accura         RSX      2009   \n",
            "5         6410           6410          51280       Saab          95      2003   \n",
            "6        21450           7150          50050     Nissan  Pathfinder      2012   \n",
            "7         9380           9380          32830       Audi          A5      2015   \n",
            "8         2770           2770          22160     Toyota       Camry      2012   \n",
            "9         4700           4700          32900       Saab         92x      1996   \n",
            "\n",
            "  fraud_reported  \n",
            "0              Y  \n",
            "1              Y  \n",
            "2              N  \n",
            "3              Y  \n",
            "4              N  \n",
            "5              Y  \n",
            "6              N  \n",
            "7              N  \n",
            "8              N  \n",
            "9              N  \n",
            "\n",
            "[10 rows x 39 columns]\n"
          ]
        }
      ]
    },
    {
      "cell_type": "code",
      "source": [
        "print(\"Last 10 Rows displayed:\")\n",
        "print(fraud_dect_dat.tail(10))"
      ],
      "metadata": {
        "id": "kgmHNPF3uZ43",
        "colab": {
          "base_uri": "https://localhost:8080/"
        },
        "outputId": "22059951-abf1-409c-a41a-140b3c61a3a0"
      },
      "execution_count": null,
      "outputs": [
        {
          "output_type": "stream",
          "name": "stdout",
          "text": [
            "Last 10 Rows displayed:\n",
            "     months_as_customer  age  policy_number policy_bind_date policy_state  \\\n",
            "990                 286   43         663190         2/5/1994           IL   \n",
            "991                 257   44         109392        7/12/2006           OH   \n",
            "992                  94   26         215278       10/24/2007           IN   \n",
            "993                 124   28         674570        12/8/2001           OH   \n",
            "994                 141   30         681486        3/24/2007           IN   \n",
            "995                   3   38         941851        7/16/1991           OH   \n",
            "996                 285   41         186934         1/5/2014           IL   \n",
            "997                 130   34         918516        2/17/2003           OH   \n",
            "998                 458   62         533940       11/18/2011           IL   \n",
            "999                 456   60         556080       11/11/1996           OH   \n",
            "\n",
            "    policy_csl  policy_deductable  policy_annual_premium  umbrella_limit  \\\n",
            "990    100/300                500                1564.43         3000000   \n",
            "991    100/300               1000                1280.88               0   \n",
            "992    100/300                500                 722.66               0   \n",
            "993    250/500               1000                1235.14               0   \n",
            "994   500/1000               1000                1347.04               0   \n",
            "995   500/1000               1000                1310.80               0   \n",
            "996    100/300               1000                1436.79               0   \n",
            "997    250/500                500                1383.49         3000000   \n",
            "998   500/1000               2000                1356.92         5000000   \n",
            "999    250/500               1000                 766.19               0   \n",
            "\n",
            "     insured_zip  ... witnesses police_report_available total_claim_amount  \\\n",
            "990       477644  ...         2                     YES              34290   \n",
            "991       433981  ...         1                      NO              46980   \n",
            "992       433696  ...         2                     YES              36700   \n",
            "993       443567  ...         1                       ?              60200   \n",
            "994       430665  ...         2                     YES               6480   \n",
            "995       431289  ...         1                       ?              87200   \n",
            "996       608177  ...         3                       ?             108480   \n",
            "997       442797  ...         3                     YES              67500   \n",
            "998       441714  ...         1                     YES              46980   \n",
            "999       612260  ...         3                       ?               5060   \n",
            "\n",
            "    injury_claim property_claim  vehicle_claim   auto_make      auto_model  \\\n",
            "990         3810           3810          26670        Jeep  Grand Cherokee   \n",
            "991            0           5220          41760      Accura              TL   \n",
            "992         3670           7340          25690      Nissan      Pathfinder   \n",
            "993         6020           6020          48160  Volkswagen          Passat   \n",
            "994          540           1080           4860       Honda           Civic   \n",
            "995        17440           8720          61040       Honda          Accord   \n",
            "996        18080          18080          72320  Volkswagen          Passat   \n",
            "997         7500           7500          52500      Suburu         Impreza   \n",
            "998         5220           5220          36540        Audi              A5   \n",
            "999          460            920           3680    Mercedes            E400   \n",
            "\n",
            "    auto_year fraud_reported  \n",
            "990      2013              N  \n",
            "991      2002              N  \n",
            "992      2010              N  \n",
            "993      2012              N  \n",
            "994      1996              N  \n",
            "995      2006              N  \n",
            "996      2015              N  \n",
            "997      1996              N  \n",
            "998      1998              N  \n",
            "999      2007              N  \n",
            "\n",
            "[10 rows x 39 columns]\n"
          ]
        }
      ]
    },
    {
      "cell_type": "code",
      "source": [
        "print(\"Information of the dataset:\")\n",
        "fraud_dect_dat.info()"
      ],
      "metadata": {
        "id": "z6xIcOC5uZ7q",
        "colab": {
          "base_uri": "https://localhost:8080/"
        },
        "outputId": "34b783c1-8359-468c-e7cf-7a913492a0ee"
      },
      "execution_count": null,
      "outputs": [
        {
          "output_type": "stream",
          "name": "stdout",
          "text": [
            "Information of the dataset:\n",
            "<class 'pandas.core.frame.DataFrame'>\n",
            "RangeIndex: 1000 entries, 0 to 999\n",
            "Data columns (total 39 columns):\n",
            " #   Column                       Non-Null Count  Dtype  \n",
            "---  ------                       --------------  -----  \n",
            " 0   months_as_customer           1000 non-null   int64  \n",
            " 1   age                          1000 non-null   int64  \n",
            " 2   policy_number                1000 non-null   int64  \n",
            " 3   policy_bind_date             1000 non-null   object \n",
            " 4   policy_state                 1000 non-null   object \n",
            " 5   policy_csl                   1000 non-null   object \n",
            " 6   policy_deductable            1000 non-null   int64  \n",
            " 7   policy_annual_premium        1000 non-null   float64\n",
            " 8   umbrella_limit               1000 non-null   int64  \n",
            " 9   insured_zip                  1000 non-null   int64  \n",
            " 10  insured_sex                  1000 non-null   object \n",
            " 11  insured_education_level      1000 non-null   object \n",
            " 12  insured_occupation           1000 non-null   object \n",
            " 13  insured_hobbies              1000 non-null   object \n",
            " 14  insured_relationship         1000 non-null   object \n",
            " 15  capital-gains                1000 non-null   int64  \n",
            " 16  capital-loss                 1000 non-null   int64  \n",
            " 17  incident_date                1000 non-null   object \n",
            " 18  incident_type                1000 non-null   object \n",
            " 19  collision_type               1000 non-null   object \n",
            " 20  incident_severity            1000 non-null   object \n",
            " 21  authorities_contacted        909 non-null    object \n",
            " 22  incident_state               1000 non-null   object \n",
            " 23  incident_city                1000 non-null   object \n",
            " 24  incident_location            1000 non-null   object \n",
            " 25  incident_hour_of_the_day     1000 non-null   int64  \n",
            " 26  number_of_vehicles_involved  1000 non-null   int64  \n",
            " 27  property_damage              1000 non-null   object \n",
            " 28  bodily_injuries              1000 non-null   int64  \n",
            " 29  witnesses                    1000 non-null   int64  \n",
            " 30  police_report_available      1000 non-null   object \n",
            " 31  total_claim_amount           1000 non-null   int64  \n",
            " 32  injury_claim                 1000 non-null   int64  \n",
            " 33  property_claim               1000 non-null   int64  \n",
            " 34  vehicle_claim                1000 non-null   int64  \n",
            " 35  auto_make                    1000 non-null   object \n",
            " 36  auto_model                   1000 non-null   object \n",
            " 37  auto_year                    1000 non-null   int64  \n",
            " 38  fraud_reported               1000 non-null   object \n",
            "dtypes: float64(1), int64(17), object(21)\n",
            "memory usage: 304.8+ KB\n"
          ]
        }
      ]
    },
    {
      "cell_type": "code",
      "source": [
        "print(\"Description of the dataset:\")\n",
        "print(fraud_dect_dat.describe())"
      ],
      "metadata": {
        "id": "sxx9YwV7uZ-A",
        "colab": {
          "base_uri": "https://localhost:8080/"
        },
        "outputId": "eb1243a8-0845-4354-f09a-85f09fc86ffc"
      },
      "execution_count": null,
      "outputs": [
        {
          "output_type": "stream",
          "name": "stdout",
          "text": [
            "Description of the dataset:\n",
            "       months_as_customer          age  policy_number  policy_deductable  \\\n",
            "count         1000.000000  1000.000000    1000.000000        1000.000000   \n",
            "mean           203.954000    38.948000  546238.648000        1136.000000   \n",
            "std            115.113174     9.140287  257063.005276         611.864673   \n",
            "min              0.000000    19.000000  100804.000000         500.000000   \n",
            "25%            115.750000    32.000000  335980.250000         500.000000   \n",
            "50%            199.500000    38.000000  533135.000000        1000.000000   \n",
            "75%            276.250000    44.000000  759099.750000        2000.000000   \n",
            "max            479.000000    64.000000  999435.000000        2000.000000   \n",
            "\n",
            "       policy_annual_premium  umbrella_limit    insured_zip  capital-gains  \\\n",
            "count            1000.000000    1.000000e+03    1000.000000    1000.000000   \n",
            "mean             1256.406150    1.101000e+06  501214.488000   25126.100000   \n",
            "std               244.167395    2.297407e+06   71701.610941   27872.187708   \n",
            "min               433.330000   -1.000000e+06  430104.000000       0.000000   \n",
            "25%              1089.607500    0.000000e+00  448404.500000       0.000000   \n",
            "50%              1257.200000    0.000000e+00  466445.500000       0.000000   \n",
            "75%              1415.695000    0.000000e+00  603251.000000   51025.000000   \n",
            "max              2047.590000    1.000000e+07  620962.000000  100500.000000   \n",
            "\n",
            "        capital-loss  incident_hour_of_the_day  number_of_vehicles_involved  \\\n",
            "count    1000.000000               1000.000000                   1000.00000   \n",
            "mean   -26793.700000                 11.644000                      1.83900   \n",
            "std     28104.096686                  6.951373                      1.01888   \n",
            "min   -111100.000000                  0.000000                      1.00000   \n",
            "25%    -51500.000000                  6.000000                      1.00000   \n",
            "50%    -23250.000000                 12.000000                      1.00000   \n",
            "75%         0.000000                 17.000000                      3.00000   \n",
            "max         0.000000                 23.000000                      4.00000   \n",
            "\n",
            "       bodily_injuries    witnesses  total_claim_amount  injury_claim  \\\n",
            "count      1000.000000  1000.000000          1000.00000   1000.000000   \n",
            "mean          0.992000     1.487000         52761.94000   7433.420000   \n",
            "std           0.820127     1.111335         26401.53319   4880.951853   \n",
            "min           0.000000     0.000000           100.00000      0.000000   \n",
            "25%           0.000000     1.000000         41812.50000   4295.000000   \n",
            "50%           1.000000     1.000000         58055.00000   6775.000000   \n",
            "75%           2.000000     2.000000         70592.50000  11305.000000   \n",
            "max           2.000000     3.000000        114920.00000  21450.000000   \n",
            "\n",
            "       property_claim  vehicle_claim    auto_year  \n",
            "count     1000.000000    1000.000000  1000.000000  \n",
            "mean      7399.570000   37928.950000  2005.103000  \n",
            "std       4824.726179   18886.252893     6.015861  \n",
            "min          0.000000      70.000000  1995.000000  \n",
            "25%       4445.000000   30292.500000  2000.000000  \n",
            "50%       6750.000000   42100.000000  2005.000000  \n",
            "75%      10885.000000   50822.500000  2010.000000  \n",
            "max      23670.000000   79560.000000  2015.000000  \n"
          ]
        }
      ]
    },
    {
      "cell_type": "code",
      "source": [
        "import numpy as np\n",
        "\n",
        "# Remove duplicate values\n",
        "fraud_dect_dat.drop_duplicates(inplace=True)\n",
        "\n",
        "# Remove null values\n",
        "fraud_dect_dat.dropna(inplace=True)\n",
        "\n",
        "# Convert date columns to datetime format\n",
        "fraud_dect_dat['policy_bind_date'] = pd.to_datetime(fraud_dect_dat['policy_bind_date'], errors='coerce')\n",
        "fraud_dect_dat['incident_date'] = pd.to_datetime(fraud_dect_dat['incident_date'], errors='coerce')\n",
        "\n",
        "# Drop unnecessary columns\n",
        "fraud_dect_cols_to_drop = ['policy_number', 'insured_zip', 'incident_location']\n",
        "fraud_dect_dat.drop(columns=fraud_dect_cols_to_drop, inplace=True)\n",
        "\n",
        "# Encode categorical variables\n",
        "fraud_dect_categorical_cols = fraud_dect_dat.select_dtypes(include=['object']).columns\n",
        "for fraud_dect_col in fraud_dect_categorical_cols:\n",
        "    fraud_dect_dat[fraud_dect_col] = fraud_dect_dat[fraud_dect_col].astype('category').cat.codes"
      ],
      "metadata": {
        "id": "qAUyVku0uaAw"
      },
      "execution_count": null,
      "outputs": []
    },
    {
      "cell_type": "code",
      "source": [
        "# Display cleaned dataset info\n",
        "print(\"Cleaned dataset information:\")\n",
        "fraud_dect_dat.info()\n"
      ],
      "metadata": {
        "id": "vegSoRrFuaD5",
        "colab": {
          "base_uri": "https://localhost:8080/"
        },
        "outputId": "a7191e9e-7537-4c14-d4e5-c20893aad72b"
      },
      "execution_count": null,
      "outputs": [
        {
          "output_type": "stream",
          "name": "stdout",
          "text": [
            "Cleaned dataset information:\n",
            "<class 'pandas.core.frame.DataFrame'>\n",
            "Index: 909 entries, 0 to 999\n",
            "Data columns (total 36 columns):\n",
            " #   Column                       Non-Null Count  Dtype         \n",
            "---  ------                       --------------  -----         \n",
            " 0   months_as_customer           909 non-null    int64         \n",
            " 1   age                          909 non-null    int64         \n",
            " 2   policy_bind_date             909 non-null    datetime64[ns]\n",
            " 3   policy_state                 909 non-null    int8          \n",
            " 4   policy_csl                   909 non-null    int8          \n",
            " 5   policy_deductable            909 non-null    int64         \n",
            " 6   policy_annual_premium        909 non-null    float64       \n",
            " 7   umbrella_limit               909 non-null    int64         \n",
            " 8   insured_sex                  909 non-null    int8          \n",
            " 9   insured_education_level      909 non-null    int8          \n",
            " 10  insured_occupation           909 non-null    int8          \n",
            " 11  insured_hobbies              909 non-null    int8          \n",
            " 12  insured_relationship         909 non-null    int8          \n",
            " 13  capital-gains                909 non-null    int64         \n",
            " 14  capital-loss                 909 non-null    int64         \n",
            " 15  incident_date                909 non-null    datetime64[ns]\n",
            " 16  incident_type                909 non-null    int8          \n",
            " 17  collision_type               909 non-null    int8          \n",
            " 18  incident_severity            909 non-null    int8          \n",
            " 19  authorities_contacted        909 non-null    int8          \n",
            " 20  incident_state               909 non-null    int8          \n",
            " 21  incident_city                909 non-null    int8          \n",
            " 22  incident_hour_of_the_day     909 non-null    int64         \n",
            " 23  number_of_vehicles_involved  909 non-null    int64         \n",
            " 24  property_damage              909 non-null    int8          \n",
            " 25  bodily_injuries              909 non-null    int64         \n",
            " 26  witnesses                    909 non-null    int64         \n",
            " 27  police_report_available      909 non-null    int8          \n",
            " 28  total_claim_amount           909 non-null    int64         \n",
            " 29  injury_claim                 909 non-null    int64         \n",
            " 30  property_claim               909 non-null    int64         \n",
            " 31  vehicle_claim                909 non-null    int64         \n",
            " 32  auto_make                    909 non-null    int8          \n",
            " 33  auto_model                   909 non-null    int8          \n",
            " 34  auto_year                    909 non-null    int64         \n",
            " 35  fraud_reported               909 non-null    int8          \n",
            "dtypes: datetime64[ns](2), float64(1), int64(15), int8(18)\n",
            "memory usage: 150.9 KB\n"
          ]
        }
      ]
    },
    {
      "cell_type": "code",
      "source": [
        "# Check for missing values after preprocessing\n",
        "print(\"Missing values after cleaning:\")\n",
        "print(fraud_dect_dat.isnull().sum())"
      ],
      "metadata": {
        "colab": {
          "base_uri": "https://localhost:8080/"
        },
        "id": "Y7xdLTRA1gOj",
        "outputId": "5cd9412b-7012-401d-d6c3-ac0b83b40866"
      },
      "execution_count": null,
      "outputs": [
        {
          "output_type": "stream",
          "name": "stdout",
          "text": [
            "Missing values after cleaning:\n",
            "months_as_customer             0\n",
            "age                            0\n",
            "policy_bind_date               0\n",
            "policy_state                   0\n",
            "policy_csl                     0\n",
            "policy_deductable              0\n",
            "policy_annual_premium          0\n",
            "umbrella_limit                 0\n",
            "insured_sex                    0\n",
            "insured_education_level        0\n",
            "insured_occupation             0\n",
            "insured_hobbies                0\n",
            "insured_relationship           0\n",
            "capital-gains                  0\n",
            "capital-loss                   0\n",
            "incident_date                  0\n",
            "incident_type                  0\n",
            "collision_type                 0\n",
            "incident_severity              0\n",
            "authorities_contacted          0\n",
            "incident_state                 0\n",
            "incident_city                  0\n",
            "incident_hour_of_the_day       0\n",
            "number_of_vehicles_involved    0\n",
            "property_damage                0\n",
            "bodily_injuries                0\n",
            "witnesses                      0\n",
            "police_report_available        0\n",
            "total_claim_amount             0\n",
            "injury_claim                   0\n",
            "property_claim                 0\n",
            "vehicle_claim                  0\n",
            "auto_make                      0\n",
            "auto_model                     0\n",
            "auto_year                      0\n",
            "fraud_reported                 0\n",
            "dtype: int64\n"
          ]
        }
      ]
    },
    {
      "cell_type": "code",
      "source": [
        "# Exploratory Data Analysis (EDA)\n",
        "seab.set(style=\"whitegrid\")\n",
        "plt.figure(figsize=(6, 4))\n",
        "seab.countplot(x=fraud_dect_dat[\"fraud_reported\"])\n",
        "plt.title(\"Fraud Reported Distribution\")\n",
        "plt.xlabel(\"Fraud Reported (0: No, 1: Yes)\")\n",
        "plt.ylabel(\"Count\")\n",
        "plt.show()\n"
      ],
      "metadata": {
        "colab": {
          "base_uri": "https://localhost:8080/",
          "height": 419
        },
        "id": "B5rNAFCc1gRV",
        "outputId": "3517c781-42b5-4ac4-f328-9a828cf40918"
      },
      "execution_count": null,
      "outputs": [
        {
          "output_type": "display_data",
          "data": {
            "text/plain": [
              "<Figure size 600x400 with 1 Axes>"
            ],
            "image/png": "[encoded data removed]"
          },
          "metadata": {}
        }
      ]
    },
    {
      "cell_type": "code",
      "source": [
        "# Boxplot\n",
        "plt.figure(figsize=(8, 6))\n",
        "seab.boxplot(data=fraud_dect_dat[['total_claim_amount', 'injury_claim', 'property_claim', 'vehicle_claim']])\n",
        "plt.title(\"Outlier Detection in Claim Amounts\")\n",
        "plt.xticks(rotation=45)\n",
        "plt.show()"
      ],
      "metadata": {
        "colab": {
          "base_uri": "https://localhost:8080/",
          "height": 652
        },
        "id": "7QtKMcHT1gUE",
        "outputId": "343b3593-f8cf-4d87-a392-8f0c8d4bc32c"
      },
      "execution_count": null,
      "outputs": [
        {
          "output_type": "display_data",
          "data": {
            "text/plain": [
              "<Figure size 800x600 with 1 Axes>"
            ],
            "image/png": "[encoded data removed]"
          },
          "metadata": {}
        }
      ]
    },
    {
      "cell_type": "code",
      "source": [
        "# Incident Type Frequency\n",
        "plt.figure(figsize=(8, 5))\n",
        "seab.countplot(x=fraud_dect_dat[\"incident_type\"])\n",
        "plt.title(\"Incident Type Frequency\")\n",
        "plt.xlabel(\"Incident Type (Encoded)\")\n",
        "plt.ylabel(\"Count\")\n",
        "plt.show()"
      ],
      "metadata": {
        "colab": {
          "base_uri": "https://localhost:8080/",
          "height": 496
        },
        "id": "M0BclD5w1gWb",
        "outputId": "2a2d614c-fad6-4b3f-9e1b-452d1006fd9d"
      },
      "execution_count": null,
      "outputs": [
        {
          "output_type": "display_data",
          "data": {
            "text/plain": [
              "<Figure size 800x500 with 1 Axes>"
            ],
            "image/png": "[encoded data removed]"
          },
          "metadata": {}
        }
      ]
    },
    {
      "cell_type": "code",
      "source": [],
      "metadata": {
        "id": "u-SfdjMh1gZD"
      },
      "execution_count": null,
      "outputs": []
    },
    {
      "cell_type": "code",
      "source": [],
      "metadata": {
        "id": "-UJHzw261gbv"
      },
      "execution_count": null,
      "outputs": []
    },
    {
      "cell_type": "code",
      "source": [],
      "metadata": {
        "id": "A1bGakkj1geb"
      },
      "execution_count": null,
      "outputs": []
    },
    {
      "cell_type": "code",
      "source": [],
      "metadata": {
        "id": "b_EEKNs71ghO"
      },
      "execution_count": null,
      "outputs": []
    },
    {
      "cell_type": "code",
      "source": [],
      "metadata": {
        "id": "b75GWcEw1gjp"
      },
      "execution_count": null,
      "outputs": []
    }
  ]
}